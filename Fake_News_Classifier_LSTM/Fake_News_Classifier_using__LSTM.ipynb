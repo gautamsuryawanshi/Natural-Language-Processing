{
  "nbformat": 4,
  "nbformat_minor": 0,
  "metadata": {
    "colab": {
      "name": "Fake_News_Classifier_using _LSTM.ipynb",
      "provenance": [],
      "collapsed_sections": []
    },
    "kernelspec": {
      "name": "python3",
      "display_name": "Python 3"
    }
  },
  "cells": [
    {
      "cell_type": "code",
      "metadata": {
        "id": "bRGcokLtnUFo"
      },
      "source": [
        "import pandas as pd\r\n",
        "import tensorflow as tf\r\n",
        "from tensorflow.keras.layers import Embedding\r\n",
        "from tensorflow.keras.preprocessing.sequence import pad_sequences\r\n",
        "from tensorflow.keras.models import Sequential\r\n",
        "from tensorflow.keras.preprocessing.text import one_hot\r\n",
        "from tensorflow.keras.layers import LSTM\r\n",
        "from tensorflow.keras.layers import Dense"
      ],
      "execution_count": null,
      "outputs": []
    },
    {
      "cell_type": "code",
      "metadata": {
        "id": "a6TtxZ5EndN2"
      },
      "source": [
        "df=pd.read_csv('train.csv')"
      ],
      "execution_count": null,
      "outputs": []
    },
    {
      "cell_type": "code",
      "metadata": {
        "id": "ljURosfQoD2G"
      },
      "source": [
        "df.head()"
      ],
      "execution_count": null,
      "outputs": []
    },
    {
      "cell_type": "code",
      "metadata": {
        "colab": {
          "base_uri": "https://localhost:8080/"
        },
        "id": "P1IGIDxhpCRp",
        "outputId": "9005c130-c532-4385-8d74-f18dd1264f0b"
      },
      "source": [
        "print(df.shape)"
      ],
      "execution_count": null,
      "outputs": [
        {
          "output_type": "stream",
          "text": [
            "(20800, 5)\n"
          ],
          "name": "stdout"
        }
      ]
    },
    {
      "cell_type": "code",
      "metadata": {
        "colab": {
          "base_uri": "https://localhost:8080/"
        },
        "id": "LyZZvonQo1PB",
        "outputId": "ce382010-5aa3-47dc-c904-e32f74f55521"
      },
      "source": [
        "###Drop Nan Values\r\n",
        "df=df.dropna()\r\n",
        "\r\n",
        "print(df.shape)"
      ],
      "execution_count": null,
      "outputs": [
        {
          "output_type": "stream",
          "text": [
            "(18285, 5)\n"
          ],
          "name": "stdout"
        }
      ]
    },
    {
      "cell_type": "code",
      "metadata": {
        "id": "VyNedZYBpAFm"
      },
      "source": [
        "## Get the Independent Features\r\n",
        "\r\n",
        "X=df.drop('label',axis=1)"
      ],
      "execution_count": null,
      "outputs": []
    },
    {
      "cell_type": "code",
      "metadata": {
        "id": "3-Js_tD4pMRM"
      },
      "source": [
        "## Get the Dependent features\r\n",
        "y=df['label']"
      ],
      "execution_count": null,
      "outputs": []
    },
    {
      "cell_type": "code",
      "metadata": {
        "id": "3SpLVbNCpVxp"
      },
      "source": [
        "### Vocabulary size\r\n",
        "vocabulary_size=5000"
      ],
      "execution_count": null,
      "outputs": []
    },
    {
      "cell_type": "code",
      "metadata": {
        "id": "HJPRI6e_pb0Y"
      },
      "source": [
        "messages=X.copy()"
      ],
      "execution_count": null,
      "outputs": []
    },
    {
      "cell_type": "code",
      "metadata": {
        "colab": {
          "base_uri": "https://localhost:8080/",
          "height": 36
        },
        "id": "NVxg9thfpjeA",
        "outputId": "6f5505ea-6755-4eb3-c669-79b409aa5df1"
      },
      "source": [
        "messages['title'][1]"
      ],
      "execution_count": null,
      "outputs": [
        {
          "output_type": "execute_result",
          "data": {
            "application/vnd.google.colaboratory.intrinsic+json": {
              "type": "string"
            },
            "text/plain": [
              "'FLYNN: Hillary Clinton, Big Woman on Campus - Breitbart'"
            ]
          },
          "metadata": {
            "tags": []
          },
          "execution_count": 17
        }
      ]
    },
    {
      "cell_type": "code",
      "metadata": {
        "id": "roLRPHvYpqBJ"
      },
      "source": [
        "messages.reset_index(inplace=True)"
      ],
      "execution_count": null,
      "outputs": []
    },
    {
      "cell_type": "code",
      "metadata": {
        "colab": {
          "base_uri": "https://localhost:8080/"
        },
        "id": "KmPPk4IUpt9A",
        "outputId": "066c78ed-b109-4881-82cd-567582729102"
      },
      "source": [
        "print(messages['title'][0])"
      ],
      "execution_count": null,
      "outputs": [
        {
          "output_type": "stream",
          "text": [
            "House Dem Aide: We Didn’t Even See Comey’s Letter Until Jason Chaffetz Tweeted It\n"
          ],
          "name": "stdout"
        }
      ]
    },
    {
      "cell_type": "code",
      "metadata": {
        "id": "ueFxgLDWp-1P"
      },
      "source": [
        "import nltk\r\n",
        "import re\r\n",
        "from nltk.corpus import stopwords"
      ],
      "execution_count": null,
      "outputs": []
    },
    {
      "cell_type": "code",
      "metadata": {
        "id": "Ll_uM_YDqDbh"
      },
      "source": [
        "nltk.download('stopwords')"
      ],
      "execution_count": null,
      "outputs": []
    },
    {
      "cell_type": "code",
      "metadata": {
        "id": "5oKeTKkirXEo"
      },
      "source": [
        "### Dataset Preprocessing\r\n",
        "from nltk.stem.porter import PorterStemmer\r\n",
        "ps = PorterStemmer()\r\n",
        "corpus = []\r\n",
        "for i in range(0, len(messages)):\r\n",
        "    review = re.sub('[^a-zA-Z]', ' ', messages['title'][i])\r\n",
        "    review = review.lower()\r\n",
        "    review = review.split()\r\n",
        "    \r\n",
        "    review = [ps.stem(word) for word in review if not word in stopwords.words('english')]\r\n",
        "    review = ' '.join(review)\r\n",
        "    corpus.append(review)"
      ],
      "execution_count": null,
      "outputs": []
    },
    {
      "cell_type": "code",
      "metadata": {
        "id": "I-a_lGgHraAE"
      },
      "source": [
        "onehot_repr=[one_hot(words,vocabulary_size)for words in corpus] "
      ],
      "execution_count": null,
      "outputs": []
    },
    {
      "cell_type": "code",
      "metadata": {
        "id": "RmscOVocr04g"
      },
      "source": [
        "sent_length=20\r\n",
        "embedded_docs=pad_sequences(onehot_repr,padding='pre',maxlen=sent_length)"
      ],
      "execution_count": null,
      "outputs": []
    },
    {
      "cell_type": "code",
      "metadata": {
        "id": "yfDc-ehLsVtE"
      },
      "source": [
        "from tensorflow.keras.layers import Dropout\r\n",
        "## Creating model\r\n",
        "embedding_vector_features=40\r\n",
        "model=Sequential()\r\n",
        "model.add(Embedding(vocabulary_size,embedding_vector_features,input_length=sent_length))\r\n",
        "model.add(Dropout(0.3))\r\n",
        "model.add(LSTM(100))\r\n",
        "model.add(Dropout(0.3))\r\n",
        "model.add(Dense(1,activation='sigmoid'))\r\n",
        "model.compile(loss='binary_crossentropy',optimizer='adam',metrics=['accuracy'])"
      ],
      "execution_count": null,
      "outputs": []
    },
    {
      "cell_type": "code",
      "metadata": {
        "colab": {
          "base_uri": "https://localhost:8080/"
        },
        "id": "Rh4F9Q2V1l5f",
        "outputId": "f60b6afc-ddbc-4497-a5db-dc1da6162048"
      },
      "source": [
        "print(model.summary())"
      ],
      "execution_count": null,
      "outputs": [
        {
          "output_type": "stream",
          "text": [
            "Model: \"sequential_2\"\n",
            "_________________________________________________________________\n",
            "Layer (type)                 Output Shape              Param #   \n",
            "=================================================================\n",
            "embedding_1 (Embedding)      (None, 20, 40)            200000    \n",
            "_________________________________________________________________\n",
            "dropout (Dropout)            (None, 20, 40)            0         \n",
            "_________________________________________________________________\n",
            "lstm_1 (LSTM)                (None, 100)               56400     \n",
            "_________________________________________________________________\n",
            "dropout_1 (Dropout)          (None, 100)               0         \n",
            "_________________________________________________________________\n",
            "dense_1 (Dense)              (None, 1)                 101       \n",
            "=================================================================\n",
            "Total params: 256,501\n",
            "Trainable params: 256,501\n",
            "Non-trainable params: 0\n",
            "_________________________________________________________________\n",
            "None\n"
          ],
          "name": "stdout"
        }
      ]
    },
    {
      "cell_type": "code",
      "metadata": {
        "id": "GWgbLr6606e6"
      },
      "source": [
        "import numpy as np\r\n",
        "X_final=np.array(embedded_docs)\r\n",
        "y_final=np.array(y)"
      ],
      "execution_count": null,
      "outputs": []
    },
    {
      "cell_type": "code",
      "metadata": {
        "colab": {
          "base_uri": "https://localhost:8080/"
        },
        "id": "mMNiFPNV1EOx",
        "outputId": "d3489728-b781-4248-fa99-d52d2f01ac24"
      },
      "source": [
        "X_final.shape,y_final.shape"
      ],
      "execution_count": null,
      "outputs": [
        {
          "output_type": "execute_result",
          "data": {
            "text/plain": [
              "((18285, 20), (18285,))"
            ]
          },
          "metadata": {
            "tags": []
          },
          "execution_count": 48
        }
      ]
    },
    {
      "cell_type": "code",
      "metadata": {
        "id": "vcuyoIba1HEn"
      },
      "source": [
        "from sklearn.model_selection import train_test_split\r\n",
        "X_train, X_test, y_train, y_test = train_test_split(X_final, y_final, test_size=0.33, random_state=42)"
      ],
      "execution_count": null,
      "outputs": []
    },
    {
      "cell_type": "code",
      "metadata": {
        "colab": {
          "base_uri": "https://localhost:8080/"
        },
        "id": "xr9J6bXZ1NxM",
        "outputId": "daa0d5d1-abbc-484c-c720-db3bcb24e2b1"
      },
      "source": [
        "### Finally Training\r\n",
        "model.fit(X_train,y_train,validation_data=(X_test,y_test),epochs=10,batch_size=64)"
      ],
      "execution_count": null,
      "outputs": [
        {
          "output_type": "stream",
          "text": [
            "Epoch 1/10\n",
            "192/192 [==============================] - 18s 71ms/step - loss: 0.4815 - accuracy: 0.7531 - val_loss: 0.2010 - val_accuracy: 0.9198\n",
            "Epoch 2/10\n",
            "192/192 [==============================] - 14s 71ms/step - loss: 0.1442 - accuracy: 0.9469 - val_loss: 0.1863 - val_accuracy: 0.9246\n",
            "Epoch 3/10\n",
            "192/192 [==============================] - 13s 70ms/step - loss: 0.0979 - accuracy: 0.9652 - val_loss: 0.2008 - val_accuracy: 0.9205\n",
            "Epoch 4/10\n",
            "192/192 [==============================] - 13s 69ms/step - loss: 0.0737 - accuracy: 0.9756 - val_loss: 0.2295 - val_accuracy: 0.9170\n",
            "Epoch 5/10\n",
            "192/192 [==============================] - 13s 67ms/step - loss: 0.0560 - accuracy: 0.9823 - val_loss: 0.2962 - val_accuracy: 0.9155\n",
            "Epoch 6/10\n",
            "192/192 [==============================] - 13s 68ms/step - loss: 0.0491 - accuracy: 0.9853 - val_loss: 0.2874 - val_accuracy: 0.9171\n",
            "Epoch 7/10\n",
            "192/192 [==============================] - 13s 68ms/step - loss: 0.0307 - accuracy: 0.9896 - val_loss: 0.3531 - val_accuracy: 0.9158\n",
            "Epoch 8/10\n",
            "192/192 [==============================] - 13s 66ms/step - loss: 0.0259 - accuracy: 0.9909 - val_loss: 0.3632 - val_accuracy: 0.9114\n",
            "Epoch 9/10\n",
            "192/192 [==============================] - 13s 67ms/step - loss: 0.0198 - accuracy: 0.9942 - val_loss: 0.3633 - val_accuracy: 0.9133\n",
            "Epoch 10/10\n",
            "192/192 [==============================] - 13s 69ms/step - loss: 0.0199 - accuracy: 0.9942 - val_loss: 0.4192 - val_accuracy: 0.9135\n"
          ],
          "name": "stdout"
        },
        {
          "output_type": "execute_result",
          "data": {
            "text/plain": [
              "<tensorflow.python.keras.callbacks.History at 0x7f95b9acf2d0>"
            ]
          },
          "metadata": {
            "tags": []
          },
          "execution_count": 50
        }
      ]
    },
    {
      "cell_type": "code",
      "metadata": {
        "id": "TLpRlong1yOk"
      },
      "source": [
        "y_pred=model.predict_classes(X_test)\r\n",
        "from sklearn.metrics import confusion_matrix"
      ],
      "execution_count": null,
      "outputs": []
    },
    {
      "cell_type": "code",
      "metadata": {
        "colab": {
          "base_uri": "https://localhost:8080/"
        },
        "id": "od6BfxIc2Y0r",
        "outputId": "e24655c8-3ad5-4aa5-c44b-2d3c701afeeb"
      },
      "source": [
        "confusion_matrix(y_test,y_pred)"
      ],
      "execution_count": null,
      "outputs": [
        {
          "output_type": "execute_result",
          "data": {
            "text/plain": [
              "array([[3088,  331],\n",
              "       [ 191, 2425]])"
            ]
          },
          "metadata": {
            "tags": []
          },
          "execution_count": 54
        }
      ]
    },
    {
      "cell_type": "code",
      "metadata": {
        "colab": {
          "base_uri": "https://localhost:8080/"
        },
        "id": "67OW_Esu2WV3",
        "outputId": "c242d6c5-c849-4476-cc65-bdfc2f04febf"
      },
      "source": [
        "from sklearn.metrics import accuracy_score\r\n",
        "print(\"Accuracy Score is : \",accuracy_score(y_test,y_pred))"
      ],
      "execution_count": null,
      "outputs": [
        {
          "output_type": "stream",
          "text": [
            "Accuracy Score is :  0.9135045567522784\n"
          ],
          "name": "stdout"
        }
      ]
    }
  ]
}